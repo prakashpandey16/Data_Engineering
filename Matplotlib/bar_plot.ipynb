{
 "cells": [
  {
   "cell_type": "code",
   "execution_count": 2,
   "id": "6c6f61cd-ce6e-4ff3-87f1-c272652cdc6e",
   "metadata": {},
   "outputs": [],
   "source": [
    "import numpy as np\n",
    "import matplotlib.pyplot as plt"
   ]
  },
  {
   "cell_type": "code",
   "execution_count": 12,
   "id": "8e7733be-46b0-4992-9b75-a8b323619945",
   "metadata": {},
   "outputs": [
    {
     "data": {
      "text/plain": [
       "<BarContainer object of 6 artists>"
      ]
     },
     "execution_count": 12,
     "metadata": {},
     "output_type": "execute_result"
    },
    {
     "data": {
      "image/png": "[encoded data removed]",
      "text/plain": [
       "<Figure size 640x480 with 1 Axes>"
      ]
     },
     "metadata": {},
     "output_type": "display_data"
    }
   ],
   "source": [
    "# Define the categories (X-axis) - Names of programming languages\n",
    "x = [\"C++\", \"C#\", \"Python\", \"Java\", \"JavaScript\", \"GO\"]\n",
    "\n",
    "# Define the values (Y-axis) - Popularity or usage count\n",
    "y = [20, 12, 18, 17, 24, 5]\n",
    "\n",
    "# Create a bar chart with customization\n",
    "plt.bar(\n",
    "    x,                 # X-axis values (categories)\n",
    "    y,                 # Y-axis values (corresponding numerical data)\n",
    "    color=\"red\",       # Sets the fill color of bars to red\n",
    "    align=\"edge\",      # Aligns bars to the edge of tick marks\n",
    "    edgecolor=\"green\", # Sets the border color of bars to green\n",
    "    width=0.5         # Sets the width of each bar (0.5 makes them thinner)\n",
    ")"
   ]
  },
  {
   "cell_type": "code",
   "execution_count": null,
   "id": "d544e461-fcdb-4d26-a05d-1c6a5f50ea99",
   "metadata": {},
   "outputs": [],
   "source": []
  }
 ],
 "metadata": {
  "kernelspec": {
   "display_name": "Python 3 (ipykernel)",
   "language": "python",
   "name": "python3"
  },
  "language_info": {
   "codemirror_mode": {
    "name": "ipython",
    "version": 3
   },
   "file_extension": ".py",
   "mimetype": "text/x-python",
   "name": "python",
   "nbconvert_exporter": "python",
   "pygments_lexer": "ipython3",
   "version": "3.13.1"
  }
 },
 "nbformat": 4,
 "nbformat_minor": 5
}
