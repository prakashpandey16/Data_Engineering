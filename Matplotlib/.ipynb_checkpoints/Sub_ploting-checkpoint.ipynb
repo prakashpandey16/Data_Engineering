{
 "cells": [
  {
   "cell_type": "code",
   "execution_count": null,
   "id": "c13bb1ef-ea9f-4256-95f5-084cdb52dca5",
   "metadata": {},
   "outputs": [],
   "source": []
  }
 ],
 "metadata": {
  "kernelspec": {
   "display_name": "Python 3 (ipykernel)",
   "language": "python",
   "name": "python3"
  },
  "language_info": {
   "codemirror_mode": {
    "name": "ipython",
    "version": 3
   },
   "file_extension": ".py",
   "mimetype": "text/x-python",
   "name": "python",
   "nbconvert_exporter": "python",
   "pygments_lexer": "ipython3",
   "version": "3.13.1"
  }
 },
 "nbformat": 4,
 "nbformat_minor": 5
}
